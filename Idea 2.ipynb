{
 "cells": [
  {
   "cell_type": "markdown",
   "metadata": {},
   "source": [
    " # Idea 2 - Bookstore idea"
   ]
  },
  {
   "cell_type": "markdown",
   "metadata": {},
   "source": [
    "**Bookstore Plan –**\n",
    "-\tMain Genre\n",
    "-\tSale Date\n",
    "-\tSales Price\n",
    "-\tAuthor\n",
    "-\tTotal Sales for each Book\n",
    "Goal = update inventory in order to make more profit per month\n",
    "\n",
    "1)\tOur business plan is to own and operate a private bookstore where we sell a large number of books of different authors, genres, and price points. We will analyze how these factors will play in per-month profit margins and use this data in order to arrange a per-month inventory with books that are more likely to sell in each month. Our goal covers a profit-driven mindset and will help create a more efficient bookstore. \n",
    "\n",
    "2)\tAlthough stores like Barnes & Noble’s exist, our store will focus on trends that the customers set themselves. Instead of company figure heads determining what inventory we stock, data given to use by our customers will be the deciding factor as to what books and how much of them we stock on any given month. Inventory will be updated each month in order to keep up with reading-trends. \n",
    "\n",
    "3)\tEven though the concept of a bookstore is nothing new, our bookstore will be the leading competitor in the book industry given that our entire stock is 100% based off of customer data. Trends will be set by customers, which in turn will provide customers with stock that is best suited towards their wants and needs. With a monthly-updated inventory, our store will out compete other stores such as Barnes & Noble’s due to our more personalized stock. Customers will never miss out on books that they would like to read nor will they have to settle on mediocre books that they have no interest in reading. Our book store alone will dominate the entire market. \n",
    "\n",
    "4)\tLike any good business, our store operates on a 24/7, 365 days a year schedule. We are available to assist any customer with their needs at any hour no matter how late or early. Here, customers can buy a book before the sun even rises if they choose to do so, and we are more than happy to help them with their needs. Our store is also designed for readers and their absolute comfort. With a built-in lounge and café, our store is more welcoming to readers than the next ten Barnes & Noble’s combined. \n",
    "\n",
    "5)\tDue to our mission to create a more customer-friendly and influenced inventory, our end user data will be book sales, as we cannot estimate the amount of each book that will be sold. This data will come entirely from the user. \n",
    "\n",
    "1.)  Book  || Genre (# of books sold in each genre)\n",
    " \n",
    " 2.)  Sale Date (Highest Sales in each Month) || Revenue created for each month\n",
    " \n",
    " 3.)  Author || # of books sold per author\n",
    " \n",
    " 4.) Book || Sales Price (price of book), cost, revenue, profit\n",
    " \n",
    " 5.) Book title  ||  # of Sales\n",
    " In conclusion, our group's bookstore would like to analyze these datapoints for our bookstore in order to cut costs, increase revenues, and create a better stock for our store's customer demographic. We will use book-genre in order to find out what genre of books our customer's prefer buying. Sale date will allow us to adjust our inventory for each individual month of the year. The data regarding the authors of the books will tell us the top selling authors for each category. Sales price data will allow us to anaylze profit, revenue, and the cost of selling each book and each genre. Finally, # of sales for the top selling books will tell us which books to stock in our inventory to sell later. I will accomplish this by using tables \"book and genre\", \"Sale date and revenue per month\", \"author and # of books sold\", \"book and sales price\", and \"book title and # of sales\".\n",
    "\n",
    "\n",
    "\n",
    "\n"
   ]
  },
  {
   "cell_type": "markdown",
   "metadata": {},
   "source": [
    "## Tables for the idea"
   ]
  },
  {
   "cell_type": "markdown",
   "metadata": {},
   "source": [
    "**Dynamic table**\n",
    "\n",
    "| Sold ID | Total Sold        | \n",
    "|--------|-------------|\n",
    "| A | 50 to 99          | \n",
    "| B | 100 to 149          | \n",
    "| C    | 150 to 199         | \n",
    "| D   | 200 to 249          | \n",
    "| E   | 250 to 399          | \n",
    "| F   | 400 to 450          | "
   ]
  },
  {
   "cell_type": "markdown",
   "metadata": {},
   "source": [
    "**Atribute tables**\n",
    "\n",
    "| Sold ID | Genre        | \n",
    "|--------|-------------|\n",
    "| D | Romance          | \n",
    "| A | Academic         | \n",
    "| D    | Young Adult         | \n",
    "| E   | Horror          | \n",
    "| A   | Comedy          | \n",
    "| C   | Self Help          | \n",
    "\n",
    "\n",
    "| Sold ID | Sale Date       | \n",
    "|--------|-------------|\n",
    "| C | January to February          | \n",
    "| B | March to april          | \n",
    "| F    | May to June         | \n",
    "| A   | July to August           | \n",
    "| A   | September to October          | \n",
    "| D   | November to December          | \n",
    "\n",
    "\n",
    "| Sold ID | Author       | \n",
    "|--------|-------------|\n",
    "| D | Lara Cardenas          | \n",
    "| F | Goldie Mcneil          | \n",
    "| C    | Miguel Campbell         | \n",
    "| A   | Fred Smith          | \n",
    "| A   | Maura Downs          | \n",
    "| A   | Lucien Stanton          | \n",
    "\n",
    "\n",
    "| Sold ID | Title        | \n",
    "|--------|-------------|\n",
    "| A | Book of Fire          | \n",
    "| B | A touch of cinnamon          | \n",
    "| E    | Call of War         | \n",
    "| F   | Book of Dawn          | \n",
    "| D   | Queen of Alograb          | \n",
    "| D   | Bible          | \n"
   ]
  },
  {
   "cell_type": "markdown",
   "metadata": {},
   "source": [
    "### Entity relationship diagram"
   ]
  },
  {
   "cell_type": "markdown",
   "metadata": {},
   "source": [
    "https://drive.google.com/file/d/1iHuof6KNQR5QO_mYPF3Hdqiss1u0M3Ai/view?usp=sharing"
   ]
  },
  {
   "cell_type": "code",
   "execution_count": null,
   "metadata": {},
   "outputs": [],
   "source": []
  }
 ],
 "metadata": {
  "kernelspec": {
   "display_name": "Python 3",
   "language": "python",
   "name": "python3"
  },
  "language_info": {
   "codemirror_mode": {
    "name": "ipython",
    "version": 3
   },
   "file_extension": ".py",
   "mimetype": "text/x-python",
   "name": "python",
   "nbconvert_exporter": "python",
   "pygments_lexer": "ipython3",
   "version": "3.7.4"
  }
 },
 "nbformat": 4,
 "nbformat_minor": 4
}
