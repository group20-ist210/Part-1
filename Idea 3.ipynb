{
 "cells": [
  {
   "cell_type": "markdown",
   "metadata": {},
   "source": [
    " # Idea 3 - Car Dealership idea"
   ]
  },
  {
   "cell_type": "markdown",
   "metadata": {},
   "source": [
    "**Car Dealership --**\n",
    "\n",
    "Car brand\n",
    "\n",
    "Car color\n",
    "\n",
    "Lot location\n",
    "\n",
    "Purchases\n",
    "\n",
    "Type of car\n",
    "\n",
    "Goal = To provide a database in which users can rent, sell, and buy cars of their choosing based off of brand, model, color, and the price of each vehicle. \n",
    "\n",
    "1) The business plan for our car dealership is to run an online database that sees car-sale transactions. We will analyze real time data and use the information to make transactions as smooth as possible. Sources of our data will be the users and customers, which we will use to shape the structure of buying/selling/trading cars, and make the entire process smoother. \n",
    "\n",
    "2) Unlike car dealerships and websites like CarMax, our service will also allow a cash option which allows users to trade their cars in for cash. We plan on working with both customer-data and real-time transactions in order to maximize usage and fluidity with our program. \n",
    "\n",
    "3) Even though our idea is not an original one, our dealership database has unique ideas within itself that help differentiate it from other, similar services. This idea is highlighted with our cash option which allows users to trade in their vehicle for cash. This concept allows us to provide a service that has not been implemented before on an online database car dealership. \n",
    "\n",
    "4) Being a tough industry, our car database must be as efficient as possible and must create a user-friendly environment that allows users to seamlessly interact with both the company and other users. We use filters that allow users to specify their preferences in order to find the best match for them.\n",
    "\n",
    "5) Our end user data would be the purchases and trade-ins, as we will not be able to estimate how much money each customer will be willing to pay for a certain vehicle. \n",
    "\n",
    "6) A typical day of business for our company consists of users and customers searching, buying, trading, and selling vehicles of their choosing. Day to day, we see hundreds of transactions take place and customers are happily using our database. \n",
    "\n",
    "Tables: \n",
    "\n",
    "Our first table will provide details pertaining to car-brands. Here, the user will be able to see brands such as Ford, Toyota, Honda, Chevrolet, etc.. This will allow users to pick a specific brand if they are looking for a particular brand of car. \n",
    "\n",
    "Car color will be another table that we will provide. If the user wanted to start his/her search with the color a vehicle, they would search the specific color that they want. From here, the user will select from vehicles that match the color preference, allowing them to explore more vehicles of the same appearance. \n",
    "\n",
    "Lot location will be an indicator of how much profit our company can make off of each vehicle. For example, by putting our most prestigious and luxurious vehicles in the same spot in our parking lot, we can organize each profit margin more efficiently. This will allow us to carefully place more expensive cars together and reduce the risk of putting them in different spots all over the company which will place them in less dangerous places. \n",
    "Purchases will also be recorded on its own individual table. Here, purchases will be recorded so we can analyze \n",
    "what cars are being sold, as well as how much users have sold/purchased them for. This will also allow us to further organize and keep track as to which cars we have in stock. \n",
    "\n",
    "Finally, the type of vehicle for each transaction will be sold. If the user would like to specify what kind of car they are looking for, they will be able to search it in our database. For instance, if a customer would like to purchase a pickup truck, they would simply input “pickup truck” into our database. Our website would immediately provide a list of pickup trucks for the user to choose from. \n",
    "\n",
    "\t\n",
    "\t\n"
   ]
  },
  {
   "cell_type": "markdown",
   "metadata": {},
   "source": [
    "## Tables for the idea"
   ]
  },
  {
   "cell_type": "markdown",
   "metadata": {},
   "source": [
    "**Dynamic table**\n",
    "\n",
    "| Purchase ID | Purchases        | \n",
    "|--------|-------------|\n",
    "| A | 1 to 2          | \n",
    "| B | 3 to 5          | \n",
    "| C    | 6 to 10         | \n",
    "| D   | 11 to 18         | \n",
    "| E   | 19 to 29          | \n",
    "| F   | 30+          | "
   ]
  },
  {
   "cell_type": "markdown",
   "metadata": {},
   "source": [
    "**Atribute tables**\n",
    "\n",
    "| Purchase ID |  Car Brand        | \n",
    "|--------|-------------|\n",
    "| D |  Jeep          | \n",
    "| A | Dastun          | \n",
    "| D    | MINI         | \n",
    "| E   | Chrysler          | \n",
    "| A   | Lada          | \n",
    "| C   | Spyker          | \n",
    "\n",
    "\n",
    "| Purchase ID | Car Color       | \n",
    "|--------|-------------|\n",
    "| C | Red          | \n",
    "| B | Black          | \n",
    "| F    | White         | \n",
    "| A   | Blue          | \n",
    "| A   | Yellow          | \n",
    "| D   | Green          | \n",
    "\n",
    "\n",
    "| Purchase ID |   Location of Purchase       | \n",
    "|--------|-------------|\n",
    "| D | PA          | \n",
    "| F | AL          | \n",
    "| C    | MA         | \n",
    "| A   | AZ          | \n",
    "| A   |  CA          | \n",
    "| A   |  FL          | \n",
    "\n",
    "\n",
    "| Purchase ID |  Car Type        | \n",
    "|--------|-------------|\n",
    "| A | Hatchback          | \n",
    "| B | Sedan          | \n",
    "| E    | MPV         | \n",
    "| F   | SUV          | \n",
    "| D   | Crossover          | \n",
    "| D   | Convertible          | \n"
   ]
  },
  {
   "cell_type": "markdown",
   "metadata": {},
   "source": [
    "### Entity relationship diagram"
   ]
  },
  {
   "cell_type": "markdown",
   "metadata": {},
   "source": [
    "https://drive.google.com/file/d/1es0cPs3aef-h7lePbMrtY5-8yyibL-Dq/view?usp=sharing"
   ]
  },
  {
   "cell_type": "code",
   "execution_count": null,
   "metadata": {},
   "outputs": [],
   "source": []
  }
 ],
 "metadata": {
  "kernelspec": {
   "display_name": "Python 3",
   "language": "python",
   "name": "python3"
  },
  "language_info": {
   "codemirror_mode": {
    "name": "ipython",
    "version": 3
   },
   "file_extension": ".py",
   "mimetype": "text/x-python",
   "name": "python",
   "nbconvert_exporter": "python",
   "pygments_lexer": "ipython3",
   "version": "3.7.4"
  }
 },
 "nbformat": 4,
 "nbformat_minor": 4
}
